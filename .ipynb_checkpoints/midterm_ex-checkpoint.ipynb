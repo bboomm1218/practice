{
 "cells": [
  {
   "cell_type": "markdown",
   "metadata": {},
   "source": [
    "# Array-like data types"
   ]
  },
  {
   "cell_type": "code",
   "execution_count": 127,
   "metadata": {},
   "outputs": [],
   "source": [
    "my_list = ['Park', 24, True]\n",
    "my_tuple = ('Park', 24, True)  #immutable\n",
    "my_set = {'Park', 24, True}\n",
    "my_dict = {'name' : 'Park', 'age' : 24, 'gender' : True}  #mutable"
   ]
  },
  {
   "cell_type": "code",
   "execution_count": 130,
   "metadata": {},
   "outputs": [
    {
     "name": "stdout",
     "output_type": "stream",
     "text": [
      "Park\n",
      "Park\n"
     ]
    }
   ],
   "source": [
    "print(my_list[0])\n",
    "print(my_tuple[0])\n",
    "# my_set[0] <- error, set is not subscriptable"
   ]
  },
  {
   "cell_type": "code",
   "execution_count": 132,
   "metadata": {},
   "outputs": [
    {
     "name": "stdout",
     "output_type": "stream",
     "text": [
      "Park\n"
     ]
    }
   ],
   "source": [
    "print(my_dict['name'])"
   ]
  },
  {
   "cell_type": "code",
   "execution_count": 136,
   "metadata": {},
   "outputs": [],
   "source": [
    "my_dict['age'] = 34"
   ]
  },
  {
   "cell_type": "code",
   "execution_count": 141,
   "metadata": {},
   "outputs": [
    {
     "name": "stdout",
     "output_type": "stream",
     "text": [
      "name Park\n",
      "age 34\n",
      "gender True\n"
     ]
    }
   ],
   "source": [
    "for key, value in my_dict.items():\n",
    "    print(key, value)"
   ]
  },
  {
   "cell_type": "markdown",
   "metadata": {},
   "source": [
    "# str.replace()"
   ]
  },
  {
   "cell_type": "code",
   "execution_count": 74,
   "metadata": {},
   "outputs": [
    {
     "name": "stdout",
     "output_type": "stream",
     "text": [
      "My e-mail is sunglok@seoultech.ac.kr and sunglock@hanmail.net.\n"
     ]
    }
   ],
   "source": [
    "A = 'My E-mail is sunglok@seoultech.ac.kr and sunglock@hanmail.net.'\n",
    "\n",
    "A = A.replace('E', 'e')\n",
    "print(A)"
   ]
  },
  {
   "cell_type": "code",
   "execution_count": 75,
   "metadata": {},
   "outputs": [
    {
     "name": "stdout",
     "output_type": "stream",
     "text": [
      "I want to know your e-mail adress.\n"
     ]
    }
   ],
   "source": [
    "B = 'I want to know your E-mail adress.'\n",
    "B = B.replace('E', 'e')\n",
    "print(B)"
   ]
  },
  {
   "cell_type": "markdown",
   "metadata": {},
   "source": [
    "# fetching phone No."
   ]
  },
  {
   "cell_type": "code",
   "execution_count": 76,
   "metadata": {},
   "outputs": [
    {
     "name": "stdout",
     "output_type": "stream",
     "text": [
      "['02-970-6708', '02-970-6780,', '02-970-6078,', '02-970-0678.']\n"
     ]
    }
   ],
   "source": [
    "A = 'My phone number is 02-970-6708 and I always confuse it with 3-4 other similar sequences such as 02-970-6780, 02-\\\n",
    "970-6078, and 02-970-0678.'\n",
    "#A = 'My previous phone number is 042-860-5775 but it does not work due to my leave.'\n",
    "my_list = A.split(' ')\n",
    "phone_numbers = []\n",
    "for w in my_list:\n",
    "    if w[0] == '0':\n",
    "        phone_numbers.append(w)\n",
    "\n",
    "print(phone_numbers)"
   ]
  },
  {
   "cell_type": "markdown",
   "metadata": {},
   "source": [
    "# solving equations using matrix"
   ]
  },
  {
   "cell_type": "code",
   "execution_count": 77,
   "metadata": {
    "scrolled": true
   },
   "outputs": [
    {
     "data": {
      "text/plain": [
       "'재석: 사과 5개, 오렌지 2개, 바나나 6개, 수박 1개, 딸기 20개, 토마토 5개 = 총 37700원\\n형돈: 사과 8개, 오렌지 5개, 바나나 2개, 수박 1개, 딸기 10개, 토마토 4개 = 총 36200원\\n명수: 사과 3개, 오렌지 3개, 바나나 9개, 수박 2개, 딸기 30개, 토마토 1개 = 총 56800원\\n홍철: 사과 5개, 오렌지 9개, 바나나 9개, 수박 1개, 딸기 40개, 토마토 1개 = 총 53600원\\n하하: 사과 9개, 오렌지 8개, 바나나 2개, 수박 2개, 딸기 50개, 토마토 2개 = 총 78600원\\n세호: 사과 7개, 오렌지 6개, 바나나 4개, 수박 3개, 딸기 10개, 토마토 9개 = 총 70700원\\n'"
      ]
     },
     "execution_count": 77,
     "metadata": {},
     "output_type": "execute_result"
    }
   ],
   "source": [
    "'''\n",
    "재석: 사과 5개, 오렌지 2개, 바나나 6개, 수박 1개, 딸기 20개, 토마토 5개 = 총 37700원\n",
    "형돈: 사과 8개, 오렌지 5개, 바나나 2개, 수박 1개, 딸기 10개, 토마토 4개 = 총 36200원\n",
    "명수: 사과 3개, 오렌지 3개, 바나나 9개, 수박 2개, 딸기 30개, 토마토 1개 = 총 56800원\n",
    "홍철: 사과 5개, 오렌지 9개, 바나나 9개, 수박 1개, 딸기 40개, 토마토 1개 = 총 53600원\n",
    "하하: 사과 9개, 오렌지 8개, 바나나 2개, 수박 2개, 딸기 50개, 토마토 2개 = 총 78600원\n",
    "세호: 사과 7개, 오렌지 6개, 바나나 4개, 수박 3개, 딸기 10개, 토마토 9개 = 총 70700원\n",
    "'''"
   ]
  },
  {
   "cell_type": "code",
   "execution_count": 78,
   "metadata": {},
   "outputs": [],
   "source": [
    "import numpy as np"
   ]
  },
  {
   "cell_type": "code",
   "execution_count": 99,
   "metadata": {},
   "outputs": [
    {
     "name": "stdout",
     "output_type": "stream",
     "text": [
      "[ 1000.   800.   100. 16000.   600.   500.]\n"
     ]
    }
   ],
   "source": [
    "total = np.array([37700, 36200, 56800, 53600, 78600, 70700])\n",
    "A = np.array([[5, 2, 6, 1, 20, 5],\n",
    "              [8, 5, 2, 1, 10, 4],\n",
    "              [3, 3, 9, 2, 30, 1], \n",
    "              [5, 9, 9, 1, 40, 1],\n",
    "              [9, 8, 2, 2, 50, 2],\n",
    "              [7, 6, 4, 3, 10, 9]])\n",
    "\n",
    "each_price = np.matmul(np.linalg.inv(A), total)\n",
    "print(each_price)"
   ]
  },
  {
   "cell_type": "markdown",
   "metadata": {},
   "source": [
    "# entropy"
   ]
  },
  {
   "cell_type": "code",
   "execution_count": 80,
   "metadata": {},
   "outputs": [
    {
     "name": "stdout",
     "output_type": "stream",
     "text": [
      "False\n"
     ]
    }
   ],
   "source": [
    "A_entropy = -0.5 * (np.log2(0.8 * 0.2))\n",
    "B_entropy = -0.5 * (np.log2(0.1 * 0.9))\n",
    "\n",
    "print(A_entropy > B_entropy)"
   ]
  },
  {
   "cell_type": "markdown",
   "metadata": {},
   "source": [
    "# accuracy"
   ]
  },
  {
   "cell_type": "code",
   "execution_count": 81,
   "metadata": {},
   "outputs": [],
   "source": [
    "from sklearn import (datasets, svm)"
   ]
  },
  {
   "cell_type": "code",
   "execution_count": 82,
   "metadata": {},
   "outputs": [
    {
     "name": "stdout",
     "output_type": "stream",
     "text": [
      "146 0.9733333333333334\n"
     ]
    }
   ],
   "source": [
    "# Load a dataset\n",
    "iris = datasets.load_iris()\n",
    "# Train a model\n",
    "model = svm.SVC() # Accuracy: 0.973 (146/150)\n",
    "model.fit(iris.data, iris.target) # Try 'iris.data[:,0:2]' (Accuracy: 0.820)\n",
    "# Test the model\n",
    "predict = model.predict(iris.data) # Try 'iris.data[:,0:2]' (Accuracy: 0.820)\n",
    "n_correct = sum(iris.target == predict)\n",
    "accuracy = n_correct / len(iris.data)\n",
    "\n",
    "print(n_correct, accuracy)"
   ]
  },
  {
   "cell_type": "code",
   "execution_count": 101,
   "metadata": {},
   "outputs": [
    {
     "name": "stdout",
     "output_type": "stream",
     "text": [
      "9 9\n",
      "0.9 0.9\n"
     ]
    }
   ],
   "source": [
    "true = np.array([0, 0, 1, 0, 0, 0, 0, 1, 0, 0])\n",
    "ans1 = np.array([0, 0, 1, 0, 0, 0, 0, 0, 0, 0])\n",
    "ans2 = np.array([0, 1, 1, 0, 0, 0, 0, 1, 0, 0])\n",
    "\n",
    "a = sum(true == ans1)\n",
    "b = sum(true == ans2)\n",
    "\n",
    "aa = metrics.accuracy_score(true, ans1)\n",
    "bb = metrics.accuracy_score(true, ans2)\n",
    "\n",
    "print(a, b)\n",
    "print(aa, bb) #displays in proportion"
   ]
  },
  {
   "cell_type": "code",
   "execution_count": 84,
   "metadata": {},
   "outputs": [],
   "source": [
    "from sklearn import metrics"
   ]
  },
  {
   "cell_type": "code",
   "execution_count": 99,
   "metadata": {},
   "outputs": [
    {
     "name": "stdout",
     "output_type": "stream",
     "text": [
      "0.6666666666666666 0.8\n"
     ]
    }
   ],
   "source": [
    "a = metrics.f1_score(true, ans1)\n",
    "b = metrics.f1_score(true, ans2)\n",
    "\n",
    "print(a, b)"
   ]
  },
  {
   "cell_type": "markdown",
   "metadata": {},
   "source": [
    "# getting prime numbers"
   ]
  },
  {
   "cell_type": "code",
   "execution_count": 62,
   "metadata": {},
   "outputs": [
    {
     "name": "stdout",
     "output_type": "stream",
     "text": [
      "[2, 3, 5, 7, 11, 13, 17, 19, 23, 29, 31, 37, 41, 43, 47, 53, 59, 61, 67, 71, 73, 79, 83, 89, 97]\n"
     ]
    }
   ],
   "source": [
    "prime_num = []\n",
    "count = 0\n",
    "for i in range(2, 100):\n",
    "    for j in range(1, i + 1):\n",
    "        if i % j == 0:\n",
    "            count += 1\n",
    "        \n",
    "    if count <= 2:\n",
    "        prime_num.append(i)\n",
    "    count = 0\n",
    "    \n",
    "print(prime_num)"
   ]
  },
  {
   "cell_type": "markdown",
   "metadata": {},
   "source": [
    "# Matrix"
   ]
  },
  {
   "cell_type": "code",
   "execution_count": 59,
   "metadata": {},
   "outputs": [],
   "source": [
    "import numpy as np"
   ]
  },
  {
   "cell_type": "code",
   "execution_count": 72,
   "metadata": {},
   "outputs": [
    {
     "name": "stdout",
     "output_type": "stream",
     "text": [
      "[[6.]\n",
      " [6.]]\n",
      "[[6.]\n",
      " [6.]]\n"
     ]
    }
   ],
   "source": [
    "A = np.array([[1, 1], [1., 1]])\n",
    "B = np.array([[4.], [2]])\n",
    "\n",
    "# np.linalg.inv(A) singular matrix\n",
    "print(A @ B)\n",
    "print(np.matmul(A, B))"
   ]
  },
  {
   "cell_type": "markdown",
   "metadata": {},
   "source": [
    "### Equation\n",
    "\n",
    "> w + b = 4\n",
    "\n",
    "> 4w + b = 2"
   ]
  },
  {
   "cell_type": "code",
   "execution_count": 77,
   "metadata": {},
   "outputs": [
    {
     "data": {
      "text/plain": [
       "array([[-0.66666667],\n",
       "       [ 4.66666667]])"
      ]
     },
     "execution_count": 77,
     "metadata": {},
     "output_type": "execute_result"
    }
   ],
   "source": [
    "A = np.array([[1, 1], [4, 1]])\n",
    "B = np.array([[4, 2]])\n",
    "\n",
    "X = np.linalg.inv(A) @ B.T\n",
    "X"
   ]
  },
  {
   "cell_type": "markdown",
   "metadata": {},
   "source": [
    "### Operation"
   ]
  },
  {
   "cell_type": "code",
   "execution_count": 79,
   "metadata": {},
   "outputs": [
    {
     "data": {
      "text/plain": [
       "array([0. , 0.5, 1. , 1.5, 2. , 2.5, 3. , 3.5, 4. , 4.5])"
      ]
     },
     "execution_count": 79,
     "metadata": {},
     "output_type": "execute_result"
    }
   ],
   "source": [
    "A = np.arange(0, 5, 0.5)\n",
    "A"
   ]
  },
  {
   "cell_type": "code",
   "execution_count": 87,
   "metadata": {},
   "outputs": [
    {
     "data": {
      "text/plain": [
       "array([[3.12909823, 2.22456558],\n",
       "       [4.1054911 , 2.64500461],\n",
       "       [1.40380446, 1.53488683]])"
      ]
     },
     "execution_count": 87,
     "metadata": {},
     "output_type": "execute_result"
    }
   ],
   "source": [
    "np.random.uniform(0, 5, size = (3, 2))"
   ]
  },
  {
   "cell_type": "code",
   "execution_count": 90,
   "metadata": {},
   "outputs": [
    {
     "data": {
      "text/plain": [
       "(3, 2)"
      ]
     },
     "execution_count": 90,
     "metadata": {},
     "output_type": "execute_result"
    }
   ],
   "source": [
    "np.zeros((3, 2))"
   ]
  },
  {
   "cell_type": "code",
   "execution_count": 91,
   "metadata": {},
   "outputs": [
    {
     "data": {
      "text/plain": [
       "(3, 2)"
      ]
     },
     "execution_count": 91,
     "metadata": {},
     "output_type": "execute_result"
    }
   ],
   "source": [
    "np.ones((3, 2))"
   ]
  },
  {
   "cell_type": "markdown",
   "metadata": {},
   "source": [
    "# Gradient Decsent"
   ]
  },
  {
   "cell_type": "markdown",
   "metadata": {},
   "source": [
    "#### A first order iterative algorithm for finding a local minimum\n",
    "\n",
    "#### Opposite direction of the gradient\n",
    "\n",
    "#### Must be differentiable near point 'a'\n",
    "\n"
   ]
  },
  {
   "cell_type": "code",
   "execution_count": 86,
   "metadata": {},
   "outputs": [],
   "source": [
    "import numpy as np\n",
    "import matplotlib.pyplot as plt"
   ]
  },
  {
   "cell_type": "code",
   "execution_count": 87,
   "metadata": {},
   "outputs": [],
   "source": [
    "f = lambda x : 0.1 * x ** 3 - 0.8 * x ** 2 - 1.5 * x + 5.4\n",
    "fd = lambda x : 0.3 * x ** 2 - 1.6 * x - 1.5\n",
    "viz_range = np.array([-6, 12])\n",
    "learn_rate = 0.1\n",
    "max_iter = 100\n",
    "min_tol = 1e-6\n",
    "x_init = 12"
   ]
  },
  {
   "cell_type": "code",
   "execution_count": 90,
   "metadata": {},
   "outputs": [
    {
     "name": "stdout",
     "output_type": "stream",
     "text": [
      "Iter : 0, x =  12.000 to  9.750, f(x) =  45.000 to  7.411)\n",
      "Iter : 1, x =  9.750 to  8.608, f(x) =  7.411 to -3.006)\n",
      "Iter : 2, x =  8.608 to  7.912, f(x) = -3.006 to -7.017)\n",
      "Iter : 3, x =  7.912 to  7.450, f(x) = -7.017 to -8.827)\n",
      "Iter : 4, x =  7.450 to  7.127, f(x) = -8.827 to -9.725)\n",
      "Iter : 5, x =  7.127 to  6.894, f(x) = -9.725 to -10.198)\n",
      "Iter : 6, x =  6.894 to  6.721, f(x) = -10.198 to -10.459)\n",
      "Iter : 7, x =  6.721 to  6.591, f(x) = -10.459 to -10.607)\n",
      "Iter : 8, x =  6.591 to  6.492, f(x) = -10.607 to -10.693)\n",
      "Iter : 9, x =  6.492 to  6.417, f(x) = -10.693 to -10.744)\n",
      "Iter : 10, x =  6.417 to  6.358, f(x) = -10.744 to -10.775)\n",
      "Iter : 11, x =  6.358 to  6.313, f(x) = -10.775 to -10.793)\n",
      "Iter : 12, x =  6.313 to  6.277, f(x) = -10.793 to -10.804)\n",
      "Iter : 13, x =  6.277 to  6.249, f(x) = -10.804 to -10.811)\n",
      "Iter : 14, x =  6.249 to  6.228, f(x) = -10.811 to -10.815)\n",
      "Iter : 15, x =  6.228 to  6.211, f(x) = -10.815 to -10.818)\n",
      "Iter : 16, x =  6.211 to  6.197, f(x) = -10.818 to -10.820)\n",
      "Iter : 17, x =  6.197 to  6.187, f(x) = -10.820 to -10.821)\n",
      "Iter : 18, x =  6.187 to  6.178, f(x) = -10.821 to -10.821)\n",
      "Iter : 19, x =  6.178 to  6.172, f(x) = -10.821 to -10.822)\n",
      "Iter : 20, x =  6.172 to  6.166, f(x) = -10.822 to -10.822)\n",
      "Iter : 21, x =  6.166 to  6.162, f(x) = -10.822 to -10.822)\n",
      "Iter : 22, x =  6.162 to  6.159, f(x) = -10.822 to -10.822)\n",
      "Iter : 23, x =  6.159 to  6.156, f(x) = -10.822 to -10.822)\n",
      "Iter : 24, x =  6.156 to  6.154, f(x) = -10.822 to -10.822)\n",
      "Iter : 25, x =  6.154 to  6.153, f(x) = -10.822 to -10.822)\n",
      "Iter : 26, x =  6.153 to  6.152, f(x) = -10.822 to -10.822)\n",
      "Iter : 27, x =  6.152 to  6.151, f(x) = -10.822 to -10.822)\n",
      "Iter : 28, x =  6.151 to  6.150, f(x) = -10.822 to -10.822)\n",
      "Iter : 29, x =  6.150 to  6.149, f(x) = -10.822 to -10.822)\n",
      "Iter : 30, x =  6.149 to  6.149, f(x) = -10.822 to -10.822)\n",
      "Iter : 31, x =  6.149 to  6.148, f(x) = -10.822 to -10.822)\n",
      "Iter : 32, x =  6.148 to  6.148, f(x) = -10.822 to -10.822)\n",
      "Iter : 33, x =  6.148 to  6.148, f(x) = -10.822 to -10.822)\n",
      "Iter : 34, x =  6.148 to  6.148, f(x) = -10.822 to -10.822)\n",
      "Iter : 35, x =  6.148 to  6.147, f(x) = -10.822 to -10.822)\n",
      "Iter : 36, x =  6.147 to  6.147, f(x) = -10.822 to -10.822)\n",
      "Iter : 37, x =  6.147 to  6.147, f(x) = -10.822 to -10.822)\n",
      "Iter : 38, x =  6.147 to  6.147, f(x) = -10.822 to -10.822)\n",
      "Iter : 39, x =  6.147 to  6.147, f(x) = -10.822 to -10.822)\n",
      "Iter : 40, x =  6.147 to  6.147, f(x) = -10.822 to -10.822)\n",
      "Iter : 41, x =  6.147 to  6.147, f(x) = -10.822 to -10.822)\n",
      "Iter : 42, x =  6.147 to  6.147, f(x) = -10.822 to -10.822)\n",
      "Iter : 43, x =  6.147 to  6.147, f(x) = -10.822 to -10.822)\n",
      "Iter : 44, x =  6.147 to  6.147, f(x) = -10.822 to -10.822)\n",
      "Iter : 45, x =  6.147 to  6.147, f(x) = -10.822 to -10.822)\n",
      "Iter : 46, x =  6.147 to  6.147, f(x) = -10.822 to -10.822)\n",
      "Iter : 47, x =  6.147 to  6.147, f(x) = -10.822 to -10.822)\n",
      "Iter : 48, x =  6.147 to  6.147, f(x) = -10.822 to -10.822)\n",
      "Iter : 49, x =  6.147 to  6.147, f(x) = -10.822 to -10.822)\n",
      "Iter : 50, x =  6.147 to  6.147, f(x) = -10.822 to -10.822)\n",
      "Iter : 51, x =  6.147 to  6.147, f(x) = -10.822 to -10.822)\n",
      "Iter : 52, x =  6.147 to  6.147, f(x) = -10.822 to -10.822)\n",
      "Iter : 53, x =  6.147 to  6.147, f(x) = -10.822 to -10.822)\n",
      "Iter : 54, x =  6.147 to  6.147, f(x) = -10.822 to -10.822)\n",
      "Iter : 55, x =  6.147 to  6.147, f(x) = -10.822 to -10.822)\n",
      "Iter : 56, x =  6.147 to  6.147, f(x) = -10.822 to -10.822)\n",
      "Iter : 57, x =  6.147 to  6.147, f(x) = -10.822 to -10.822)\n"
     ]
    },
    {
     "data": {
      "image/png": "[encoded data removed]",
      "text/plain": [
       "<Figure size 432x288 with 1 Axes>"
      ]
     },
     "metadata": {
      "needs_background": "light"
     },
     "output_type": "display_data"
    }
   ],
   "source": [
    "xs = np.linspace(*viz_range, 100)\n",
    "plt.plot(xs, f(xs), 'r-', label = 'f(x)', linewidth = 2)\n",
    "plt.plot(x_init, f(x_init), 'b.', label = 'Each step', markersize = 10)\n",
    "plt.axis((*viz_range, *f(viz_range)))\n",
    "plt.legend()\n",
    "\n",
    "x = x_init\n",
    "for i in range(max_iter):\n",
    "    xp = x\n",
    "    x = x - learn_rate * fd(x)\n",
    "    \n",
    "    print(f'Iter : {i}, x = {xp : .3f} to {x : .3f}, f(x) = {f(xp) : .3f} to {f(x) : .3f})')\n",
    "    lcolor = np.random.rand(3)\n",
    "    approx = fd(xp) * (xs - xp) + f(xp)\n",
    "    plt.plot(xs, approx, '-', linewidth = 1, color = lcolor, alpha = 0.5)\n",
    "    plt.plot(x, f(x), '.', color = lcolor, markersize = 10)\n",
    "    \n",
    "    if abs(x - xp) < min_tol:\n",
    "        break\n",
    "\n",
    "plt.show()        "
   ]
  },
  {
   "cell_type": "markdown",
   "metadata": {},
   "source": [
    "# Newton's method"
   ]
  },
  {
   "cell_type": "markdown",
   "metadata": {},
   "source": [
    ">#### A second-order iterative algotithm for finding a local minimum\n",
    "\n",
    ">#### x(t + 1) = x(t)  - f'(x(t)) / f''(x(t))\n",
    "\n",
    ">#### redundant step size procedure\n",
    "\n",
    ">#### The tangent parabola : p(x) = $1/2 * f''(x(t))(x - x(t))^2 + f'(x(t))(x - x(t)) + f(x(t))$\n",
    "\n",
    ">#### Finding the root of the parabola : $x_r = x(t) - f'(x(t)) / f''(x(t))$"
   ]
  },
  {
   "cell_type": "code",
   "execution_count": 91,
   "metadata": {},
   "outputs": [],
   "source": [
    "import numpy as np\n",
    "import matplotlib.pyplot as plt"
   ]
  },
  {
   "cell_type": "code",
   "execution_count": 92,
   "metadata": {},
   "outputs": [],
   "source": [
    "f = lambda x : 0.1 * x ** 3 - 0.8 * x ** 2 - 1.5 * x + 5.4\n",
    "fd = lambda x : 0.3 * x ** 2 - 1.6 * x - 1.5\n",
    "fdd = lambda x : 0.6 * x - 1.6\n",
    "viz_range = np.array([-6, 12])\n",
    "max_iter = 100\n",
    "min_tol = 1e-6\n",
    "x_init = 12"
   ]
  },
  {
   "cell_type": "code",
   "execution_count": 95,
   "metadata": {},
   "outputs": [
    {
     "name": "stdout",
     "output_type": "stream",
     "text": [
      "Iter : 0, x =  12.000 to  7.982, f(x) =  45.000 to -6.687 (f'(x) =  22.500, f''(x) =  5.600)\n",
      "Iter : 1, x =  7.982 to  6.464, f(x) = -6.687 to -10.714 (f'(x) =  4.843, f''(x) =  3.189)\n",
      "Iter : 2, x =  6.464 to  6.160, f(x) = -10.714 to -10.822 (f'(x) =  0.692, f''(x) =  2.278)\n",
      "Iter : 3, x =  6.160 to  6.147, f(x) = -10.822 to -10.822 (f'(x) =  0.028, f''(x) =  2.096)\n",
      "Iter : 4, x =  6.147 to  6.147, f(x) = -10.822 to -10.822 (f'(x) =  0.000, f''(x) =  2.088)\n",
      "Iter : 5, x =  6.147 to  6.147, f(x) = -10.822 to -10.822 (f'(x) =  0.000, f''(x) =  2.088)\n"
     ]
    },
    {
     "data": {
      "image/png": "[encoded data removed]",
      "text/plain": [
       "<Figure size 432x288 with 1 Axes>"
      ]
     },
     "metadata": {
      "needs_background": "light"
     },
     "output_type": "display_data"
    }
   ],
   "source": [
    "xs = np.linspace(*viz_range, 100)\n",
    "plt.plot(xs, f(xs), 'r-', label = 'f(x)', linewidth = 2)\n",
    "plt.plot(x_init, f(x_init), 'b.', label = 'Each step', markersize = 10)\n",
    "plt.axis((*viz_range, *f(viz_range)))\n",
    "plt.legend()\n",
    "\n",
    "x = x_init\n",
    "for i in range(max_iter):\n",
    "    xp = x\n",
    "    x = x - fd(x) / fdd(x)\n",
    "    \n",
    "    print(f'Iter : {i}, x = {xp : .3f} to {x : .3f}, f(x) = {f(xp) : .3f} to {f(x) : .3f} (f\\'(x) = {fd(xp) : .3f}, f\\'\\'(x) = {fdd(xp) : .3f})')\n",
    "    lcolor = np.random.rand(3)\n",
    "    approx = 0.5 * fdd(xp) * (xs - xp) ** 2 + fd(xp) * (xs - xp) + f(xp)\n",
    "    plt.plot(xs, approx, '-', linewidth = 1, color = lcolor, alpha = 0.8)\n",
    "    plt.plot(x, f(x), '.', color = lcolor, markersize = 10)\n",
    "    \n",
    "    if abs(x - xp) < min_tol:\n",
    "        break\n",
    "\n",
    "plt.show()"
   ]
  },
  {
   "cell_type": "markdown",
   "metadata": {},
   "source": [
    "# Sci-py Optimize"
   ]
  },
  {
   "cell_type": "markdown",
   "metadata": {},
   "source": [
    "#### Provides functions for optimization and root finding problems\n",
    "\n",
    "#### For maximization, toggle the sign of the given function"
   ]
  },
  {
   "cell_type": "code",
   "execution_count": 121,
   "metadata": {},
   "outputs": [],
   "source": [
    "import numpy as np\n",
    "import matplotlib.pyplot as plt\n",
    "from scipy.optimize import minimize"
   ]
  },
  {
   "cell_type": "code",
   "execution_count": 125,
   "metadata": {},
   "outputs": [],
   "source": [
    "f = lambda x : 0.1 * x ** 3 - 0.8 * x ** 2 - 1.5 * x + 5.4  #the coef fo x^3 must be (+)\n",
    "viz_range = np.array([-6, 12])\n",
    "max_iter = 100\n",
    "min_tol = 1e-6\n",
    "x_init = 12"
   ]
  },
  {
   "cell_type": "code",
   "execution_count": 123,
   "metadata": {},
   "outputs": [
    {
     "name": "stdout",
     "output_type": "stream",
     "text": [
      "  allvecs: [array([12.]), array([10.99]), array([8.63764627]), array([6.99073328]), array([6.35096519]), array([6.16828795]), array([6.14738039]), array([6.14677065]), array([6.14676882])]\n",
      "      fun: -10.822173403490742\n",
      " hess_inv: array([[0.47882767]])\n",
      "      jac: array([0.])\n",
      "  message: 'Optimization terminated successfully.'\n",
      "     nfev: 18\n",
      "      nit: 8\n",
      "     njev: 9\n",
      "   status: 0\n",
      "  success: True\n",
      "        x: array([6.14676882])\n"
     ]
    }
   ],
   "source": [
    "result = minimize(f, x_init, tol = min_tol, options = {'maxiter' : max_iter, 'return_all' : True})\n",
    "print(result)"
   ]
  },
  {
   "cell_type": "code",
   "execution_count": 124,
   "metadata": {
    "scrolled": true
   },
   "outputs": [
    {
     "data": {
      "image/png": "[encoded data removed]",
      "text/plain": [
       "<Figure size 432x288 with 1 Axes>"
      ]
     },
     "metadata": {
      "needs_background": "light"
     },
     "output_type": "display_data"
    }
   ],
   "source": [
    "xs = np.linspace(*viz_range, 100)\n",
    "plt.plot(xs, f(xs), 'r-', label = 'f(x)', linewidth = 2)\n",
    "xr = np.vstack(result.allvecs)\n",
    "plt.plot(xr, f(xr), 'b.',label = 'Each step', markersize = 12)\n",
    "plt.legend()\n",
    "plt.axis((*viz_range, *f(viz_range)))\n",
    "plt.show()"
   ]
  },
  {
   "cell_type": "markdown",
   "metadata": {},
   "source": [
    "# Iris flower dataset"
   ]
  },
  {
   "cell_type": "code",
   "execution_count": 1,
   "metadata": {},
   "outputs": [],
   "source": [
    "from sklearn import datasets"
   ]
  },
  {
   "cell_type": "code",
   "execution_count": 2,
   "metadata": {},
   "outputs": [],
   "source": [
    "iris = datasets.load_iris()"
   ]
  },
  {
   "cell_type": "code",
   "execution_count": 7,
   "metadata": {},
   "outputs": [
    {
     "name": "stdout",
     "output_type": "stream",
     "text": [
      "['setosa' 'versicolor' 'virginica']\n",
      "['sepal length (cm)', 'sepal width (cm)', 'petal length (cm)', 'petal width (cm)']\n",
      "(150, 4)\n",
      "(150,)\n"
     ]
    }
   ],
   "source": [
    "print(iris.target_names)\n",
    "print(iris.feature_names)\n",
    "print(iris.data.shape)\n",
    "print(iris.target.shape)"
   ]
  },
  {
   "cell_type": "markdown",
   "metadata": {},
   "source": [
    "# Accuracy"
   ]
  },
  {
   "cell_type": "code",
   "execution_count": 14,
   "metadata": {},
   "outputs": [],
   "source": [
    "from sklearn import datasets, svm, metrics"
   ]
  },
  {
   "cell_type": "code",
   "execution_count": 15,
   "metadata": {},
   "outputs": [
    {
     "data": {
      "text/plain": [
       "0.9733333333333334"
      ]
     },
     "execution_count": 15,
     "metadata": {},
     "output_type": "execute_result"
    }
   ],
   "source": [
    "iris = datasets.load_iris()\n",
    "\n",
    "model = svm.SVC()\n",
    "model.fit(iris.data, iris.target)\n",
    "\n",
    "predict = model.predict(iris.data)\n",
    "n_correct = sum(predict == iris.target)\n",
    "n_correct / len(iris.data)"
   ]
  },
  {
   "cell_type": "code",
   "execution_count": 17,
   "metadata": {},
   "outputs": [
    {
     "name": "stdout",
     "output_type": "stream",
     "text": [
      "0.9733333333333334\n",
      "0.9733333333333333\n"
     ]
    }
   ],
   "source": [
    "print(metrics.accuracy_score(iris.target, predict))\n",
    "print(metrics.balanced_accuracy_score(iris.target, predict))"
   ]
  },
  {
   "cell_type": "code",
   "execution_count": 24,
   "metadata": {},
   "outputs": [
    {
     "name": "stdout",
     "output_type": "stream",
     "text": [
      "(array([1.  , 0.96, 0.96]), array([1.  , 0.96, 0.96]), array([1.  , 0.96, 0.96]), array([50, 50, 50], dtype=int64))\n",
      "              precision    recall  f1-score   support\n",
      "\n",
      "           0       1.00      1.00      1.00        50\n",
      "           1       0.96      0.96      0.96        50\n",
      "           2       0.96      0.96      0.96        50\n",
      "\n",
      "    accuracy                           0.97       150\n",
      "   macro avg       0.97      0.97      0.97       150\n",
      "weighted avg       0.97      0.97      0.97       150\n",
      "\n"
     ]
    }
   ],
   "source": [
    "#print(metrics.precision_score(iris.target, predict))\n",
    "#print(metrics.recall_score(iris.target, predict))\n",
    "#print(metrics.f1_score(iris.target, predict))\n",
    "print(metrics.precision_recall_fscore_support(iris.target, predict))\n",
    "print(metrics.classification_report(iris.target, predict))"
   ]
  },
  {
   "cell_type": "markdown",
   "metadata": {},
   "source": [
    "# Decision Tree"
   ]
  },
  {
   "cell_type": "code",
   "execution_count": 25,
   "metadata": {},
   "outputs": [
    {
     "data": {
      "image/png": "[encoded data removed]",
      "text/plain": [
       "<Figure size 432x288 with 1 Axes>"
      ]
     },
     "metadata": {
      "needs_background": "light"
     },
     "output_type": "display_data"
    },
    {
     "data": {
      "image/png": "[encoded data removed]",
      "text/plain": [
       "<Figure size 432x288 with 1 Axes>"
      ]
     },
     "metadata": {
      "needs_background": "light"
     },
     "output_type": "display_data"
    }
   ],
   "source": [
    "import numpy as np\n",
    "import matplotlib.pyplot as plt\n",
    "from sklearn import (datasets, tree, ensemble, metrics)\n",
    "from matplotlib.colors import ListedColormap\n",
    "\n",
    "# Load a dataset partially\n",
    "iris = datasets.load_iris()\n",
    "iris.data = iris.data[:,0:2]\n",
    "iris.feature_names = iris.feature_names[0:2]\n",
    "iris.color = np.array([(1, 0, 0), (0, 1, 0), (0, 0, 1)])\n",
    "\n",
    "# Train a model\n",
    "model = tree.DecisionTreeClassifier(max_depth=2) # Try deeper\n",
    "model.fit(iris.data, iris.target)\n",
    "\n",
    "# Visualize training results (decision boundaries)\n",
    "x_min, x_max = iris.data[:, 0].min() - 1, iris.data[:, 0].max() + 1\n",
    "y_min, y_max = iris.data[:, 1].min() - 1, iris.data[:, 1].max() + 1\n",
    "xx, yy = np.meshgrid(np.arange(x_min, x_max, 0.01), np.arange(y_min, y_max, 0.01))\n",
    "xy = np.vstack((xx.flatten(), yy.flatten())).T\n",
    "zz = model.predict(xy)\n",
    "plt.contourf(xx, yy, zz.reshape(xx.shape), cmap=ListedColormap(iris.color), alpha=0.2)\n",
    "\n",
    "# Test the model\n",
    "predict = model.predict(iris.data)\n",
    "accuracy = metrics.balanced_accuracy_score(iris.target, predict)\n",
    "\n",
    "# Visualize testing results\n",
    "plt.title(f'Decision tree ({accuracy:.3f})')\n",
    "plt.scatter(iris.data[:,0], iris.data[:,1], c=iris.color[iris.target], edgecolors=iris.color[predict])\n",
    "plt.xlabel(iris.feature_names[0])\n",
    "plt.ylabel(iris.feature_names[1])\n",
    "plt.show()\n",
    "\n",
    "# Visualize training results (the trained tree)\n",
    "tree.plot_tree(model, feature_names=iris.feature_names, class_names=iris.target_names, impurity=False)\n",
    "plt.show()"
   ]
  },
  {
   "cell_type": "markdown",
   "metadata": {},
   "source": [
    "# Linear Regression"
   ]
  },
  {
   "cell_type": "code",
   "execution_count": 41,
   "metadata": {},
   "outputs": [],
   "source": [
    "import numpy as np\n",
    "import matplotlib.pyplot as plt\n",
    "from sklearn import linear_model, metrics"
   ]
  },
  {
   "cell_type": "code",
   "execution_count": 42,
   "metadata": {},
   "outputs": [],
   "source": [
    "solid_line = lambda x : (-2 / 3) * x + 14 / 3\n",
    "data_range = np.array([-4, 12])\n",
    "data_num = 100\n",
    "noise_std = 0.5"
   ]
  },
  {
   "cell_type": "code",
   "execution_count": 43,
   "metadata": {},
   "outputs": [],
   "source": [
    "x = np.random.uniform(data_range[0], data_range[1], size = data_num)\n",
    "y = solid_line(x)"
   ]
  },
  {
   "cell_type": "code",
   "execution_count": 44,
   "metadata": {},
   "outputs": [],
   "source": [
    "xn = x + np.random.normal(scale = noise_std, size = x.shape)\n",
    "yn = y + np.random.normal(scale = noise_std, size = y.shape)"
   ]
  },
  {
   "cell_type": "code",
   "execution_count": 45,
   "metadata": {},
   "outputs": [],
   "source": [
    "model = linear_model.LinearRegression()\n",
    "model.fit(xn.reshape(-1, 1), yn.reshape(-1, 1))\n",
    "score = model.score(xn.reshape(-1, 1), yn.reshape(-1, 1))"
   ]
  },
  {
   "cell_type": "code",
   "execution_count": 54,
   "metadata": {},
   "outputs": [
    {
     "data": {
      "image/png": "[encoded data removed]",
      "text/plain": [
       "<Figure size 432x288 with 1 Axes>"
      ]
     },
     "metadata": {
      "needs_background": "light"
     },
     "output_type": "display_data"
    }
   ],
   "source": [
    "plt.title(f'Line : y = {model.coef_[0, 0] : .3f} * x + {model.intercept_[0] : .3f} (score = {score : .3f})')\n",
    "plt.plot(data_range, solid_line(data_range), 'r-', label = 'The solid line')\n",
    "plt.plot(xn, yn, 'b.', label = 'Noisy data')\n",
    "plt.plot(data_range, model.coef_[0] * data_range + model.intercept_, 'g-', label = 'Estimate')\n",
    "plt.xlim(data_range)\n",
    "plt.legend()\n",
    "plt.show()"
   ]
  },
  {
   "cell_type": "markdown",
   "metadata": {},
   "source": [
    "# Clustering"
   ]
  },
  {
   "cell_type": "code",
   "execution_count": 39,
   "metadata": {},
   "outputs": [
    {
     "data": {
      "image/png": "[encoded data removed]",
      "text/plain": [
       "<Figure size 432x288 with 1 Axes>"
      ]
     },
     "metadata": {
      "needs_background": "light"
     },
     "output_type": "display_data"
    }
   ],
   "source": [
    "import numpy as np\n",
    "import matplotlib.pyplot as plt\n",
    "from sklearn import (datasets, cluster)\n",
    "from matplotlib.colors import ListedColormap\n",
    "\n",
    "# Load a dataset partially\n",
    "iris = datasets.load_iris()\n",
    "iris.data = iris.data[:,0:2] # Try [:,2:4]\n",
    "iris.feature_names = iris.feature_names[0:2] # Try [:,2:4]\n",
    "iris.color = np.array([(1, 0, 0), (0, 1, 0), (0, 0, 1)])\n",
    "\n",
    "# Train a model\n",
    "model = cluster.KMeans(n_clusters=3)\n",
    "model.fit(iris.data)\n",
    "\n",
    "# Visualize training results (decision boundaries)\n",
    "x_min, x_max = iris.data[:, 0].min() - 1, iris.data[:, 0].max() + 1\n",
    "y_min, y_max = iris.data[:, 1].min() - 1, iris.data[:, 1].max() + 1\n",
    "xx, yy = np.meshgrid(np.arange(x_min, x_max, 0.01), np.arange(y_min, y_max, 0.01))\n",
    "xy = np.vstack((xx.flatten(), yy.flatten())).T\n",
    "zz = model.predict(xy)\n",
    "plt.contourf(xx, yy, zz.reshape(xx.shape), cmap=ListedColormap(iris.color), alpha=0.2)\n",
    "\n",
    "# Visualize testing results\n",
    "plt.title(f'cluster.KMeans')\n",
    "plt.scatter(iris.data[:,0], iris.data[:,1], c=iris.color[iris.target])\n",
    "plt.xlabel(iris.feature_names[0])\n",
    "plt.ylabel(iris.feature_names[1])\n",
    "\n",
    "# Visualize training results (mean values)\n",
    "for c in range(model.n_clusters):\n",
    "    plt.scatter(*model.cluster_centers_[c], marker='+', s=200, color='k')\n",
    "    \n",
    "plt.show()"
   ]
  }
 ],
 "metadata": {
  "kernelspec": {
   "display_name": "Python 3",
   "language": "python",
   "name": "python3"
  },
  "language_info": {
   "codemirror_mode": {
    "name": "ipython",
    "version": 3
   },
   "file_extension": ".py",
   "mimetype": "text/x-python",
   "name": "python",
   "nbconvert_exporter": "python",
   "pygments_lexer": "ipython3",
   "version": "3.8.5"
  }
 },
 "nbformat": 4,
 "nbformat_minor": 4
}
