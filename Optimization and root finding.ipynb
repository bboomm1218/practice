{
 "cells": [
  {
   "cell_type": "code",
   "execution_count": 1,
   "metadata": {},
   "outputs": [],
   "source": [
    "import numpy as np\n",
    "import matplotlib.pyplot as plt\n",
    "from scipy.optimize import minimize"
   ]
  },
  {
   "cell_type": "code",
   "execution_count": 2,
   "metadata": {},
   "outputs": [],
   "source": [
    "f = lambda x : 0.1 * x **3 - 0.8 * x ** 2 - 1.5 * x + 5.4\n",
    "viz_range = np.array([-6, 12])\n",
    "max_iter = 100\n",
    "min_tol = 1e-6\n",
    "x_init = 12"
   ]
  },
  {
   "cell_type": "code",
   "execution_count": 4,
   "metadata": {},
   "outputs": [
    {
     "name": "stdout",
     "output_type": "stream",
     "text": [
      "  allvecs: [array([12.]), array([10.99]), array([8.63764627]), array([6.99073328]), array([6.35096519]), array([6.16828795]), array([6.14738039]), array([6.14677065]), array([6.14676882])]\n",
      "      fun: -10.822173403490742\n",
      " hess_inv: array([[0.47882767]])\n",
      "      jac: array([0.])\n",
      "  message: 'Optimization terminated successfully.'\n",
      "     nfev: 18\n",
      "      nit: 8\n",
      "     njev: 9\n",
      "   status: 0\n",
      "  success: True\n",
      "        x: array([6.14676882])\n"
     ]
    }
   ],
   "source": [
    "result = minimize(f, x_init, tol = min_tol, options = {'maxiter' : max_iter, 'return_all' : True})\n",
    "print(result)"
   ]
  },
  {
   "cell_type": "code",
   "execution_count": 13,
   "metadata": {},
   "outputs": [
    {
     "data": {
      "image/png": "[encoded data removed]",
      "text/plain": [
       "<Figure size 432x288 with 1 Axes>"
      ]
     },
     "metadata": {
      "needs_background": "light"
     },
     "output_type": "display_data"
    }
   ],
   "source": [
    "xs = np.linspace(*viz_range, 100)\n",
    "plt.plot(xs, f(xs), 'r-', label = 'f(x)', linewidth = 2)\n",
    "xr = np.vstack(result.allvecs) \n",
    "plt.plot(xr, f(xr), 'b.', label = 'Each step', markersize = 12)\n",
    "plt.legend()\n",
    "plt.axis((*viz_range, *f(viz_range)))\n",
    "plt.show()"
   ]
  },
  {
   "cell_type": "code",
   "execution_count": 14,
   "metadata": {},
   "outputs": [
    {
     "data": {
      "text/plain": [
       "array([[12.        ],\n",
       "       [10.99      ],\n",
       "       [ 8.63764627],\n",
       "       [ 6.99073328],\n",
       "       [ 6.35096519],\n",
       "       [ 6.16828795],\n",
       "       [ 6.14738039],\n",
       "       [ 6.14677065],\n",
       "       [ 6.14676882]])"
      ]
     },
     "execution_count": 14,
     "metadata": {},
     "output_type": "execute_result"
    }
   ],
   "source": [
    "xr"
   ]
  },
  {
   "cell_type": "code",
   "execution_count": null,
   "metadata": {},
   "outputs": [],
   "source": []
  }
 ],
 "metadata": {
  "kernelspec": {
   "display_name": "Python 3",
   "language": "python",
   "name": "python3"
  },
  "language_info": {
   "codemirror_mode": {
    "name": "ipython",
    "version": 3
   },
   "file_extension": ".py",
   "mimetype": "text/x-python",
   "name": "python",
   "nbconvert_exporter": "python",
   "pygments_lexer": "ipython3",
   "version": "3.8.5"
  }
 },
 "nbformat": 4,
 "nbformat_minor": 4
}
