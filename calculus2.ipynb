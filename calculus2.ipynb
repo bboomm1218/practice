{
 "cells": [
  {
   "cell_type": "markdown",
   "metadata": {},
   "source": [
    "### Differentiation"
   ]
  },
  {
   "cell_type": "code",
   "execution_count": 1,
   "metadata": {},
   "outputs": [],
   "source": [
    "import matplotlib.pyplot as plt"
   ]
  },
  {
   "cell_type": "code",
   "execution_count": 2,
   "metadata": {},
   "outputs": [],
   "source": [
    "scale = 10\n",
    "xs = [x / scale for x in range(-4 * scale, 10 * scale)]\n",
    "ys = [0.1 * x ** 3 - 0.8 * x ** 2 - 1.5 * x + 5.4 for x in xs]\n",
    "yt = [-3.5 * x + 7 for x in xs]"
   ]
  },
  {
   "cell_type": "code",
   "execution_count": 3,
   "metadata": {},
   "outputs": [
    {
     "data": {
      "image/png": "[encoded data removed]",
      "text/plain": [
       "<Figure size 432x288 with 1 Axes>"
      ]
     },
     "metadata": {
      "needs_background": "light"
     },
     "output_type": "display_data"
    }
   ],
   "source": [
    "plt.plot(xs, ys, 'r', label = 'y')\n",
    "plt.plot(xs, yt, 'b--', label = 'tangent line at x = 2')\n",
    "plt.xlabel('x')\n",
    "plt.ylabel('y')\n",
    "plt.grid()\n",
    "plt.legend()\n",
    "plt.show()"
   ]
  },
  {
   "cell_type": "code",
   "execution_count": 4,
   "metadata": {},
   "outputs": [],
   "source": [
    "import sympy as sp"
   ]
  },
  {
   "cell_type": "code",
   "execution_count": 5,
   "metadata": {},
   "outputs": [],
   "source": [
    "x, y = sp.symbols('x y')\n",
    "y = 0.1 * x ** 3 - 0.8 * x ** 2 - 1.5 * x + 5.4"
   ]
  },
  {
   "cell_type": "code",
   "execution_count": 6,
   "metadata": {},
   "outputs": [
    {
     "name": "stdout",
     "output_type": "stream",
     "text": [
      "0.3*x**2 - 1.6*x - 1.5\n",
      "-3.5\n"
     ]
    }
   ],
   "source": [
    "yd = sp.diff(y, x)\n",
    "print(yd)\n",
    "print(float(yd.subs({x : 2})))"
   ]
  },
  {
   "cell_type": "code",
   "execution_count": 7,
   "metadata": {},
   "outputs": [
    {
     "name": "stdout",
     "output_type": "stream",
     "text": [
      "FiniteSet(-3.0, 2.0, 9.0)\n",
      "-3.0\n"
     ]
    }
   ],
   "source": [
    "roots = sp.solveset(y, x)\n",
    "print(roots)\n",
    "print(float(roots.args[0]))"
   ]
  },
  {
   "cell_type": "code",
   "execution_count": 8,
   "metadata": {},
   "outputs": [
    {
     "name": "stdout",
     "output_type": "stream",
     "text": [
      "0.54⋅(0.111111111111111⋅x - 1.0)⋅(0.333333333333333⋅x + 1.0)⋅(0.5⋅x - 1.0)\n"
     ]
    }
   ],
   "source": [
    "sp.pprint(sp.factor(y / 10))"
   ]
  },
  {
   "cell_type": "code",
   "execution_count": 9,
   "metadata": {},
   "outputs": [
    {
     "name": "stdout",
     "output_type": "stream",
     "text": [
      "(x - 9)⋅(x - 2)⋅(x + 3)\n",
      "───────────────────────\n",
      "           10          \n"
     ]
    }
   ],
   "source": [
    "y = (x ** 3 - 8 * x ** 2 - 15 * x + 54)\n",
    "sp.pprint(sp.factor(y / 10))"
   ]
  },
  {
   "cell_type": "code",
   "execution_count": 10,
   "metadata": {},
   "outputs": [],
   "source": [
    "y = lambda x : 0.1 * x ** 3 - 0.8 * x ** 2 - 1.5 * x + 5.4\n",
    "x0 = 2\n",
    "h = 0.001"
   ]
  },
  {
   "cell_type": "code",
   "execution_count": 11,
   "metadata": {},
   "outputs": [
    {
     "name": "stdout",
     "output_type": "stream",
     "text": [
      "d1 = -3.5002, d2 = -3.5000\n"
     ]
    }
   ],
   "source": [
    "d1 = (y(x0 + h) - y(x0)) / h\n",
    "d2 = (y(x0 + h) - y(x0 - h)) / (2 * h)\n",
    "print(f'd1 = {d1 : .4f}, d2 = {d2 : .4f}')"
   ]
  }
 ],
 "metadata": {
  "kernelspec": {
   "display_name": "Python 3",
   "language": "python",
   "name": "python3"
  },
  "language_info": {
   "codemirror_mode": {
    "name": "ipython",
    "version": 3
   },
   "file_extension": ".py",
   "mimetype": "text/x-python",
   "name": "python",
   "nbconvert_exporter": "python",
   "pygments_lexer": "ipython3",
   "version": "3.8.5"
  }
 },
 "nbformat": 4,
 "nbformat_minor": 4
}
