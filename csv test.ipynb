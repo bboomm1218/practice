{
 "cells": [
  {
   "cell_type": "code",
   "execution_count": 48,
   "metadata": {},
   "outputs": [],
   "source": [
    "import numpy as np\n",
    "import pandas as pd\n",
    "import csv"
   ]
  },
  {
   "cell_type": "code",
   "execution_count": 57,
   "metadata": {},
   "outputs": [
    {
     "name": "stdout",
     "output_type": "stream",
     "text": [
      "[[113  86]\n",
      " [104  83]\n",
      " [110  78]\n",
      " [101  79]\n",
      " [101  77]\n",
      " [103  76]\n",
      " [ 71  94]\n",
      " [102  71]\n",
      " [ 88  76]\n",
      " [101  72]\n",
      " [ 81  78]\n",
      " [ 84  78]\n",
      " [ 91  72]\n",
      " [107  65]\n",
      " [ 64  89]\n",
      " [ 78  86]\n",
      " [ 74  73]\n",
      " [117  45]\n",
      " [100  55]\n",
      " [105  53]\n",
      " [ 72  88]\n",
      " [ 87  73]\n",
      " [ 44  73]\n",
      " [ 66  81]\n",
      " [ 64  70]\n",
      " [ 86  51]\n",
      " [ 68  52]\n",
      " [ 47  66]\n",
      " [ 63  66]\n",
      " [ 51  57]\n",
      " [ 64  41]\n",
      " [ 54  49]\n",
      " [ 53  47]\n",
      " [ 92  29]\n",
      " [ 48  18]\n",
      " [ 42  36]\n",
      " [ 21  22]\n",
      " [ 55  55]\n",
      " [ 61  28]\n",
      " [ 50  35]\n",
      " [ 21   0]\n",
      " [ 45   0]\n",
      " [ 42   0]]\n"
     ]
    }
   ],
   "source": [
    "with open('data/class_score_en.csv', 'r') as f:\n",
    "    f.readline()\n",
    "    arr = []\n",
    "    for line in f:\n",
    "        ob = [int(s) for s in line.split(', ')]\n",
    "        arr.append(ob)\n",
    "    \n",
    "    arr = np.array(arr)\n",
    "    print(arr)"
   ]
  },
  {
   "cell_type": "code",
   "execution_count": 66,
   "metadata": {},
   "outputs": [
    {
     "name": "stdout",
     "output_type": "stream",
     "text": [
      "[[113  86]\n",
      " [104  83]\n",
      " [110  78]\n",
      " [101  79]\n",
      " [101  77]\n",
      " [103  76]\n",
      " [ 71  94]\n",
      " [102  71]\n",
      " [ 88  76]\n",
      " [101  72]\n",
      " [ 81  78]\n",
      " [ 84  78]\n",
      " [ 91  72]\n",
      " [107  65]\n",
      " [ 64  89]\n",
      " [ 78  86]\n",
      " [ 74  73]\n",
      " [117  45]\n",
      " [100  55]\n",
      " [105  53]\n",
      " [ 72  88]\n",
      " [ 87  73]\n",
      " [ 44  73]\n",
      " [ 66  81]\n",
      " [ 64  70]\n",
      " [ 86  51]\n",
      " [ 68  52]\n",
      " [ 47  66]\n",
      " [ 63  66]\n",
      " [ 51  57]\n",
      " [ 64  41]\n",
      " [ 54  49]\n",
      " [ 53  47]\n",
      " [ 92  29]\n",
      " [ 48  18]\n",
      " [ 42  36]\n",
      " [ 21  22]\n",
      " [ 55  55]\n",
      " [ 61  28]\n",
      " [ 50  35]\n",
      " [ 21   0]\n",
      " [ 45   0]\n",
      " [ 42   0]]\n"
     ]
    }
   ],
   "source": [
    "reader = pd.read_csv('data/class_score_en.csv')\n",
    "reader = np.array(reader)\n",
    "print(reader)"
   ]
  },
  {
   "cell_type": "code",
   "execution_count": 68,
   "metadata": {},
   "outputs": [
    {
     "name": "stdout",
     "output_type": "stream",
     "text": [
      "[43 43]\n"
     ]
    }
   ],
   "source": [
    "print(sum(arr == reader))"
   ]
  },
  {
   "cell_type": "code",
   "execution_count": null,
   "metadata": {},
   "outputs": [],
   "source": []
  }
 ],
 "metadata": {
  "kernelspec": {
   "display_name": "Python 3",
   "language": "python",
   "name": "python3"
  },
  "language_info": {
   "codemirror_mode": {
    "name": "ipython",
    "version": 3
   },
   "file_extension": ".py",
   "mimetype": "text/x-python",
   "name": "python",
   "nbconvert_exporter": "python",
   "pygments_lexer": "ipython3",
   "version": "3.8.5"
  }
 },
 "nbformat": 4,
 "nbformat_minor": 4
}
