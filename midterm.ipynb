{
 "cells": [
  {
   "cell_type": "code",
   "execution_count": 6,
   "metadata": {},
   "outputs": [],
   "source": [
    "import numpy as np\n",
    "import matplotlib.pyplot as plt\n",
    "from scipy.optimize import minimize"
   ]
  },
  {
   "cell_type": "code",
   "execution_count": 7,
   "metadata": {},
   "outputs": [],
   "source": [
    "utility = lambda x: 3.2*x*x - 2.9*x - 8.2\n",
    "xrange = np.array([-2, 2])\n",
    "max_iter = 100\n",
    "min_tol = 1e-6\n",
    "x_init = 2"
   ]
  },
  {
   "cell_type": "code",
   "execution_count": 8,
   "metadata": {
    "scrolled": true
   },
   "outputs": [
    {
     "data": {
      "text/plain": [
       "  allvecs: [array([2.]), array([0.99]), array([0.453125])]\n",
       "      fun: -8.857031249999999\n",
       " hess_inv: array([[0.15625]])\n",
       "      jac: array([0.])\n",
       "  message: 'Optimization terminated successfully.'\n",
       "     nfev: 6\n",
       "      nit: 2\n",
       "     njev: 3\n",
       "   status: 0\n",
       "  success: True\n",
       "        x: array([0.453125])"
      ]
     },
     "execution_count": 8,
     "metadata": {},
     "output_type": "execute_result"
    }
   ],
   "source": [
    "result = minimize(utility, x_init, tol = min_tol, options = {'maxiter' : max_iter, 'return_all' : True})\n",
    "result"
   ]
  },
  {
   "cell_type": "code",
   "execution_count": 1,
   "metadata": {},
   "outputs": [
    {
     "name": "stdout",
     "output_type": "stream",
     "text": [
      "X\n"
     ]
    }
   ],
   "source": [
    "print('O' if None else 'X')"
   ]
  },
  {
   "cell_type": "code",
   "execution_count": 4,
   "metadata": {},
   "outputs": [
    {
     "name": "stdout",
     "output_type": "stream",
     "text": [
      " 2.72\n"
     ]
    }
   ],
   "source": [
    "a = 2.718\n",
    "print(f'{a : .2f}')"
   ]
  },
  {
   "cell_type": "code",
   "execution_count": 43,
   "metadata": {},
   "outputs": [],
   "source": [
    "prof = [\n",
    "    {'name': 'Kang', 'room': 328},\n",
    "    {'name': 'Park', 'room': 326},\n",
    "    {'name': 'Kim',  'room': 331},\n",
    "    {'name': 'Choi', 'room': 327},\n",
    "]\n"
   ]
  },
  {
   "cell_type": "code",
   "execution_count": 65,
   "metadata": {},
   "outputs": [
    {
     "data": {
      "text/plain": [
       "[{'name': 'Park', 'room': 326},\n",
       " {'name': 'Choi', 'room': 327},\n",
       " {'name': 'Kang', 'room': 328},\n",
       " {'name': 'Kim', 'room': 331}]"
      ]
     },
     "execution_count": 65,
     "metadata": {},
     "output_type": "execute_result"
    }
   ],
   "source": [
    "prof_sort = sorted(prof, key = lambda x : x['room'])\n",
    "prof_sort"
   ]
  },
  {
   "cell_type": "code",
   "execution_count": null,
   "metadata": {},
   "outputs": [],
   "source": []
  },
  {
   "cell_type": "code",
   "execution_count": 10,
   "metadata": {},
   "outputs": [
    {
     "data": {
      "text/plain": [
       "array([[  1.38571429],\n",
       "       [-19.58571429],\n",
       "       [ 75.28571429]])"
      ]
     },
     "execution_count": 10,
     "metadata": {},
     "output_type": "execute_result"
    }
   ],
   "source": [
    "A = np.array([[9, 3, 1],\n",
    "         [100, 10, 1],\n",
    "         [25, 5, 1]])\n",
    "B = np.array([[29], [18], [12]])\n",
    "\n",
    "np.linalg.inv(A) @ B"
   ]
  },
  {
   "cell_type": "code",
   "execution_count": 11,
   "metadata": {},
   "outputs": [],
   "source": [
    "p  = np.array([1/6, 1/6, 1/6, 1/6, 1/6, 1/6])\n",
    "q1 = np.array([0.2, 0.2, 0.2, 0.2, 0.1, 0.1])\n",
    "q2 = np.array([0.3, 0.3, 0.1, 0.1, 0.1, 0.1])\n",
    "q3 = np.array([0.4, 0.2, 0.1, 0.1, 0.1, 0.1])\n",
    "q4 = np.array([0.5, 0.1, 0.1, 0.1, 0.1, 0.1])"
   ]
  },
  {
   "cell_type": "code",
   "execution_count": 12,
   "metadata": {},
   "outputs": [
    {
     "name": "stdout",
     "output_type": "stream",
     "text": [
      "2.655261428220695\n",
      "2.7936072613136433\n",
      "2.8219280948873617\n",
      "2.9349400790728013\n"
     ]
    }
   ],
   "source": [
    "e = sum(-p * np.log2(q1))\n",
    "e1 = sum(-p * np.log2(q2))\n",
    "e2 = sum(-p * np.log2(q3))\n",
    "e3 = sum(-p * np.log2(q4))\n",
    "\n",
    "print(e)\n",
    "print(e1)\n",
    "print(e2)\n",
    "print(e3)\n"
   ]
  },
  {
   "cell_type": "code",
   "execution_count": 14,
   "metadata": {},
   "outputs": [],
   "source": [
    "from sklearn import metrics"
   ]
  },
  {
   "cell_type": "code",
   "execution_count": 13,
   "metadata": {},
   "outputs": [],
   "source": [
    "y_true = np.array([1, 0, 1, 0, 1, 0, 1, 0, 1, 1, 1, 1, 1, 1, 1, 1, 0, 0, 0, 0])\n",
    "y_pred = np.array([1, 0, 0, 1, 0, 1, 1, 0, 1, 0, 1, 0, 0, 0, 1, 1, 0, 0, 0, 0])"
   ]
  },
  {
   "cell_type": "code",
   "execution_count": 15,
   "metadata": {},
   "outputs": [
    {
     "name": "stdout",
     "output_type": "stream",
     "text": [
      "0.6\n",
      "0.625\n",
      "0.75\n",
      "0.5\n"
     ]
    }
   ],
   "source": [
    "print(metrics.accuracy_score(y_true, y_pred))\n",
    "print(metrics.balanced_accuracy_score(y_true, y_pred))\n",
    "print(metrics.precision_score(y_true, y_pred))\n",
    "print(metrics.recall_score(y_true, y_pred))"
   ]
  },
  {
   "cell_type": "code",
   "execution_count": 16,
   "metadata": {},
   "outputs": [],
   "source": [
    "pr_values = [\n",
    "    (0.6, 0.5),\n",
    "    (0.7, 0.3),\n",
    "    (0.5, 0.8),\n",
    "    (0.4, 0.7)\n",
    "]"
   ]
  },
  {
   "cell_type": "code",
   "execution_count": 17,
   "metadata": {},
   "outputs": [
    {
     "name": "stdout",
     "output_type": "stream",
     "text": [
      "0.5454545454545454\n",
      "0.42\n",
      "0.6153846153846154\n",
      "0.509090909090909\n"
     ]
    }
   ],
   "source": [
    "for i in pr_values:\n",
    "    print(2 * i[0] * i[1] / (i[0] + i[1]))"
   ]
  },
  {
   "cell_type": "markdown",
   "metadata": {},
   "source": [
    "[seoultech](https://seoultech.ac.kr) has **beautiful** scenery"
   ]
  },
  {
   "cell_type": "code",
   "execution_count": 73,
   "metadata": {},
   "outputs": [],
   "source": [
    "text = '''1, 3, 5, 7, 9\n",
    "          8, 6, 4, 2, 0'''\n",
    "data = [] # Fill inside"
   ]
  },
  {
   "cell_type": "code",
   "execution_count": 76,
   "metadata": {
    "scrolled": false
   },
   "outputs": [
    {
     "data": {
      "text/plain": [
       "['1,3,5', ',7,9,', '1,3,5', ',7,9,']"
      ]
     },
     "execution_count": 76,
     "metadata": {},
     "output_type": "execute_result"
    }
   ],
   "source": [
    "text = text.replace(' ', '')\n",
    "text = text.replace('\\n', ',')\n",
    "\n",
    "\n",
    "data.append(text[:5])\n",
    "data.append(text[5:10])\n",
    "\n",
    "data"
   ]
  },
  {
   "cell_type": "code",
   "execution_count": 50,
   "metadata": {},
   "outputs": [],
   "source": [
    "a = [3, 29]\n",
    "b = [10, 18]"
   ]
  },
  {
   "cell_type": "code",
   "execution_count": 54,
   "metadata": {},
   "outputs": [
    {
     "data": {
      "text/plain": [
       "23.148462985306637"
      ]
     },
     "execution_count": 54,
     "metadata": {},
     "output_type": "execute_result"
    }
   ],
   "source": [
    "def angle(V1, V2):\n",
    "    cos_of_angle = V1.dot(V2) / (np.linalg.norm(V1) * np.linalg.norm(V2)) \n",
    "    return np.arccos(np.clip(cos_of_angle,-1,1))  * 180/np.pi\n",
    "\n",
    "angle(np.array(a), np.array(b))"
   ]
  },
  {
   "cell_type": "code",
   "execution_count": null,
   "metadata": {},
   "outputs": [],
   "source": []
  }
 ],
 "metadata": {
  "kernelspec": {
   "display_name": "Python 3",
   "language": "python",
   "name": "python3"
  },
  "language_info": {
   "codemirror_mode": {
    "name": "ipython",
    "version": 3
   },
   "file_extension": ".py",
   "mimetype": "text/x-python",
   "name": "python",
   "nbconvert_exporter": "python",
   "pygments_lexer": "ipython3",
   "version": "3.8.5"
  }
 },
 "nbformat": 4,
 "nbformat_minor": 4
}
